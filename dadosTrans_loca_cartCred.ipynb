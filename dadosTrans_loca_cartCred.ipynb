{
 "cells": [
  {
   "cell_type": "code",
   "execution_count": null,
   "id": "cb373fbe",
   "metadata": {},
   "outputs": [],
   "source": [
    "from pyspark.sql.types import *"
   ]
  },
  {
   "cell_type": "code",
   "execution_count": null,
   "id": "6208c385",
   "metadata": {},
   "outputs": [],
   "source": [
    "import pyspark.sql.functions as f"
   ]
  },
  {
   "cell_type": "code",
   "execution_count": null,
   "id": "f8fcf88f",
   "metadata": {},
   "outputs": [],
   "source": [
    "from pyspark.sql import SparkSession"
   ]
  },
  {
   "cell_type": "code",
   "execution_count": null,
   "id": "642c726c",
   "metadata": {},
   "outputs": [],
   "source": [
    "from pyspark.sql.types import StructField,IntegerType, FloatType, BooleanType ,StructType,StringType"
   ]
  },
  {
   "cell_type": "code",
   "execution_count": null,
   "id": "ad295295",
   "metadata": {},
   "outputs": [],
   "source": [
    "# definição do esquema da tabela temporária de contratos\n",
    "CamposContr=[StructField('contract_id',IntegerType(),True),\n",
    "             StructField('client_id',IntegerType(),True),\n",
    "             StructField('client_name',StringType(),True),\n",
    "             StructField('percentage',FloatType(),True),\n",
    "             StructField('is_active',BooleanType(),True)\n",
    "       ]\n",
    "ContratosStruct=StructType(fields=CamposContr)"
   ]
  },
  {
   "cell_type": "code",
   "execution_count": null,
   "id": "c8ab8252",
   "metadata": {},
   "outputs": [],
   "source": [
    "spark = (\n",
    "    SparkSession\n",
    "    .builder\n",
    "    .master(\"local\")\n",
    "    .appName(\"test-GetNet\")\n",
    "    .config(\"spark.sql.shuffle.partitions\", 13)\n",
    "    .config(\"spark.driver.memory\", \"10g\")\n",
    "    .config(\"setLogLevel\", \"INFO\")\n",
    "    .config(\"spark.logConf\", \"true\")\n",
    "    .getOrCreate()\n",
    ")\n",
    "#spark.sparkContext.setLogLevel(\"WARN\")\n",
    "  \n",
    "    \n"
   ]
  },
  {
   "cell_type": "code",
   "execution_count": null,
   "id": "910246b6",
   "metadata": {},
   "outputs": [],
   "source": [
    "# leitura do csv de contratos\n",
    "df_contratos = spark.read.csv('contratos.csv', header=True, sep=';',schema=ContratosStruct)"
   ]
  },
  {
   "cell_type": "code",
   "execution_count": null,
   "id": "7217922e",
   "metadata": {},
   "outputs": [],
   "source": [
    "# transformação para tabela temporária de contratos\n",
    "df_contratos.createOrReplaceTempView(\"Contratos\")"
   ]
  },
  {
   "cell_type": "code",
   "execution_count": null,
   "id": "39178025",
   "metadata": {},
   "outputs": [],
   "source": [
    "# definição do esquema da tabela temporária de transações\n",
    "spark.sql(\"SELECT * FROM Contratos where is_active is true limit 3\").show()"
   ]
  },
  {
   "cell_type": "code",
   "execution_count": null,
   "id": "a3035a53",
   "metadata": {},
   "outputs": [],
   "source": [
    "# definição do esquema da tabela temporária de transações\n",
    "CamposTrans=[StructField('transaction_id',IntegerType(),True),\n",
    "             StructField('client_id',IntegerType(),True),\n",
    "              StructField('total_amount',FloatType(),True),\n",
    "             StructField('discount_percentage',FloatType(),True)\n",
    "       ]\n",
    "TransacoesStruct=StructType(fields=CamposTrans)"
   ]
  },
  {
   "cell_type": "code",
   "execution_count": null,
   "id": "9955c52a",
   "metadata": {},
   "outputs": [],
   "source": [
    "# leitura do csv de transações\n",
    "df_transacoes = spark.read.csv('transacoes*.csv', header=True, sep=';', schema=TransacoesStruct)"
   ]
  },
  {
   "cell_type": "code",
   "execution_count": null,
   "id": "0a539bfd",
   "metadata": {},
   "outputs": [],
   "source": [
    "# transformação para tabela temporária de transações\n",
    "df_transacoes.createOrReplaceTempView(\"Transacoes\")"
   ]
  },
  {
   "cell_type": "code",
   "execution_count": null,
   "id": "6aec21b9",
   "metadata": {},
   "outputs": [],
   "source": [
    "# leitura da base de transações\n",
    "spark.sql(\"SELECT * FROM Transacoes limit 3\").show()"
   ]
  },
  {
   "cell_type": "code",
   "execution_count": null,
   "id": "931a2d88",
   "metadata": {},
   "outputs": [],
   "source": [
    "# valor de cada transação\n",
    "spark.sql(\"SELECT transaction_id, c.client_id, client_name, contract_id, percentage, total_amount, (total_amount-(total_amount*coalesce(discount_percentage,0)/100.00))*percentage/100.00 val_trans, (total_amount-(total_amount*coalesce(discount_percentage,0)/100.00))*percentage/100.00 val_trans_serv_loc_cart_cred FROM Transacoes t left join Contratos c on (c.client_id=t.client_id) where is_active is true limit 3\").show()"
   ]
  },
  {
   "cell_type": "code",
   "execution_count": null,
   "id": "51df1293",
   "metadata": {},
   "outputs": [],
   "source": [
    "# valor total de todas as transações\n",
    "spark.sql(\"SELECT sum((total_amount-(total_amount*coalesce(discount_percentage,0)/100.00))*percentage/100.00) val_tot_serv_loc_cart_cred FROM Transacoes t left join Contratos c on (c.client_id=t.client_id) where is_active is true\").show()"
   ]
  },
  {
   "cell_type": "code",
   "execution_count": null,
   "id": "5e2a2185",
   "metadata": {},
   "outputs": [],
   "source": []
  }
 ],
 "metadata": {
  "kernelspec": {
   "display_name": "Python 3 (ipykernel)",
   "language": "python",
   "name": "python3"
  },
  "language_info": {
   "codemirror_mode": {
    "name": "ipython",
    "version": 3
   },
   "file_extension": ".py",
   "mimetype": "text/x-python",
   "name": "python",
   "nbconvert_exporter": "python",
   "pygments_lexer": "ipython3",
   "version": "3.9.7"
  }
 },
 "nbformat": 4,
 "nbformat_minor": 5
}
